{
 "cells": [
  {
   "cell_type": "code",
   "execution_count": 9,
   "metadata": {},
   "outputs": [
    {
     "name": "stdout",
     "output_type": "stream",
     "text": [
      "haiqah\n",
      "Found 0 images belonging to 29 classes.\n"
     ]
    },
    {
     "name": "stdout",
     "output_type": "stream",
     "text": [
      "Found 0 images belonging to 29 classes.\n"
     ]
    },
    {
     "ename": "ValueError",
     "evalue": "Asked to retrieve element 0, but the Sequence has length 0",
     "output_type": "error",
     "traceback": [
      "\u001b[1;31m---------------------------------------------------------------------------\u001b[0m",
      "\u001b[1;31mValueError\u001b[0m                                Traceback (most recent call last)",
      "Cell \u001b[1;32mIn[9], line 41\u001b[0m\n\u001b[0;32m     39\u001b[0m \u001b[38;5;28;01mfor\u001b[39;00m i \u001b[38;5;129;01min\u001b[39;00m \u001b[38;5;28mrange\u001b[39m(\u001b[38;5;241m1\u001b[39m,\u001b[38;5;241m9\u001b[39m):\n\u001b[0;32m     40\u001b[0m     plt\u001b[38;5;241m.\u001b[39msubplot(\u001b[38;5;241m4\u001b[39m,\u001b[38;5;241m2\u001b[39m,i)\n\u001b[1;32m---> 41\u001b[0m     plt\u001b[38;5;241m.\u001b[39mimshow(\u001b[43mtrain_dataset\u001b[49m\u001b[43m[\u001b[49m\u001b[38;5;241;43m0\u001b[39;49m\u001b[43m]\u001b[49m[\u001b[38;5;241m0\u001b[39m][i\u001b[38;5;241m-\u001b[39m\u001b[38;5;241m1\u001b[39m])\n\u001b[0;32m     42\u001b[0m plt\u001b[38;5;241m.\u001b[39mshow()\n\u001b[0;32m     43\u001b[0m \u001b[38;5;66;03m# getting pretrained model for transfer learning and defining model\u001b[39;00m\n",
      "File \u001b[1;32m~\\AppData\\Local\\Packages\\PythonSoftwareFoundation.Python.3.11_qbz5n2kfra8p0\\LocalCache\\local-packages\\Python311\\site-packages\\keras\\src\\preprocessing\\image.py:103\u001b[0m, in \u001b[0;36m__getitem__\u001b[1;34m(self, idx)\u001b[0m\n",
      "\u001b[1;31mValueError\u001b[0m: Asked to retrieve element 0, but the Sequence has length 0"
     ]
    },
    {
     "data": {
      "image/png": "[encoded data removed]",
      "text/plain": [
       "<Figure size 1500x1000 with 1 Axes>"
      ]
     },
     "metadata": {},
     "output_type": "display_data"
    }
   ],
   "source": [
    "import tensorflow as tf\n",
    "from tensorflow.keras.preprocessing import image\n",
    "import numpy as np\n",
    "# Load the saved model\n",
    "loaded_model = tf.keras.models.load_model(\"50epochs.h5\")\n",
    "\n",
    "# Define the target image size (assuming it's the same as during training)\n",
    "target_size = (150, 150)\n",
    "\n",
    "# Load an image for prediction\n",
    "img_path = \"kaggle_asl/asl_alphabet_test/asl_alphabet_test\\C_test.jpg\"  # Replace with the path to your image\n",
    "img = image.load_img(img_path, target_size=target_size)\n",
    "img_array = image.img_to_array(img)\n",
    "img_array = np.expand_dims(img_array, axis=0)  # Add batch dimension\n",
    "\n",
    "# Preprocess the image (you might need to preprocess based on how your training images were preprocessed)\n",
    "img_array = img_array / 255.0  # Normalize pixel values to [0, 1]\n",
    "\n",
    "# Get the prediction\n",
    "prediction = loaded_model.predict(img_array)\n",
    "\n",
    "# Decode the prediction (assuming the model outputs probabilities for each class)\n",
    "predicted_class_index = np.argmax(prediction)\n",
    "# Assuming you have a list of class labels\n",
    "class_labels = [...]  # Replace with your list of class labels\n",
    "predicted_class_label = class_labels[predicted_class_index]\n",
    "\n",
    "print(\"Predicted class:\", predicted_class_label)\n",
    "print(\"Prediction probabilities:\", prediction)\n"
   ]
  }
 ],
 "metadata": {
  "kernelspec": {
   "display_name": "Python 3",
   "language": "python",
   "name": "python3"
  },
  "language_info": {
   "codemirror_mode": {
    "name": "ipython",
    "version": 3
   },
   "file_extension": ".py",
   "mimetype": "text/x-python",
   "name": "python",
   "nbconvert_exporter": "python",
   "pygments_lexer": "ipython3",
   "version": "3.11.9"
  }
 },
 "nbformat": 4,
 "nbformat_minor": 2
}
